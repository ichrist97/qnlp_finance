{
 "cells": [
  {
   "attachments": {},
   "cell_type": "markdown",
   "metadata": {},
   "source": [
    "# Training a LSTM / QLSTM classifier\n",
    "\n",
    "Long Short-Term Memory (LSTM) networks have been a major breaktrough in natural language processing in learning sequential data and dependencies such as seen in text data. Although, their performance has been surpassed by the Transformer architecture, it is still interesting to see how LSTM can be improved by introducing quantum computing. In the quantum age a quantum-enhanced LSTM (QLSTM) might bring several advantages compared to its classical counterpart.\n",
    "\n",
    "In this notebook we present a full step working implementation of a hybrid-quantum-classical QLSTM neural network implemented in PyTorch. Starting with loading and transforming the datasets used in the proposed paper, the notebooks shows every step on how to train a LSTM / QLSTM and evaluate the trained model.\n",
    "\n",
    "For more details on the inner workings of a QLSTM refer to \"Quantum Long Short-Term Memory” by Chen, Yoo and Fang (arXiv:2009.01783)\". The original implementation of a QLSTM cell was proposed by “The Dawn of Quantum Natural\n",
    "Language Processing\" by Di Sipio, Huang and Chen, et al. (arXiv:2110.06510), which we slighlty modified for our experiments."
   ]
  },
  {
   "cell_type": "code",
   "execution_count": 16,
   "metadata": {},
   "outputs": [],
   "source": [
    "import torch\n",
    "from torch import nn\n",
    "import torch.nn.functional as F\n",
    "from torch import optim\n",
    "from torch.utils.data import Dataset, DataLoader\n",
    "\n",
    "import matplotlib.pyplot as plt\n",
    "import pandas as pd\n",
    "from sklearn.model_selection import train_test_split\n",
    "from qlstm_cell import QLSTMCell\n",
    "import numpy as np\n",
    "import time"
   ]
  },
  {
   "attachments": {},
   "cell_type": "markdown",
   "metadata": {},
   "source": [
    "Set torch device"
   ]
  },
  {
   "cell_type": "code",
   "execution_count": 17,
   "metadata": {},
   "outputs": [
    {
     "name": "stdout",
     "output_type": "stream",
     "text": [
      "cpu\n"
     ]
    }
   ],
   "source": [
    "device = torch.device(\"cuda\" if torch.cuda.is_available() else \"cpu\")\n",
    "print(device)"
   ]
  },
  {
   "attachments": {},
   "cell_type": "markdown",
   "metadata": {},
   "source": [
    "## Load dataset\n",
    "\n",
    "Labels:\n",
    "- 0 : negative\n",
    "- 1 : neutral\n",
    "- 2 : positive"
   ]
  },
  {
   "cell_type": "code",
   "execution_count": 18,
   "metadata": {},
   "outputs": [
    {
     "data": {
      "text/html": [
       "<div>\n",
       "<style scoped>\n",
       "    .dataframe tbody tr th:only-of-type {\n",
       "        vertical-align: middle;\n",
       "    }\n",
       "\n",
       "    .dataframe tbody tr th {\n",
       "        vertical-align: top;\n",
       "    }\n",
       "\n",
       "    .dataframe thead th {\n",
       "        text-align: right;\n",
       "    }\n",
       "</style>\n",
       "<table border=\"1\" class=\"dataframe\">\n",
       "  <thead>\n",
       "    <tr style=\"text-align: right;\">\n",
       "      <th></th>\n",
       "      <th>text</th>\n",
       "      <th>label</th>\n",
       "    </tr>\n",
       "  </thead>\n",
       "  <tbody>\n",
       "    <tr>\n",
       "      <th>0</th>\n",
       "      <td>Tesla stock surges again</td>\n",
       "      <td>2</td>\n",
       "    </tr>\n",
       "    <tr>\n",
       "      <th>1</th>\n",
       "      <td>Inflation fears rattle markets</td>\n",
       "      <td>0</td>\n",
       "    </tr>\n",
       "    <tr>\n",
       "      <th>2</th>\n",
       "      <td>Apple reports record profits</td>\n",
       "      <td>2</td>\n",
       "    </tr>\n",
       "    <tr>\n",
       "      <th>3</th>\n",
       "      <td>Interest rates stay steady</td>\n",
       "      <td>1</td>\n",
       "    </tr>\n",
       "    <tr>\n",
       "      <th>4</th>\n",
       "      <td>Amazon shares drop sharply</td>\n",
       "      <td>0</td>\n",
       "    </tr>\n",
       "  </tbody>\n",
       "</table>\n",
       "</div>"
      ],
      "text/plain": [
       "                             text  label\n",
       "0        Tesla stock surges again      2\n",
       "1  Inflation fears rattle markets      0\n",
       "2    Apple reports record profits      2\n",
       "3      Interest rates stay steady      1\n",
       "4      Amazon shares drop sharply      0"
      ]
     },
     "execution_count": 18,
     "metadata": {},
     "output_type": "execute_result"
    }
   ],
   "source": [
    "# Any text dataset in the same format can be used here\n",
    "df = pd.read_csv(\"data/low_complexity.csv\")\n",
    "df = df.dropna()\n",
    "\n",
    "# convert class name\n",
    "X = df[\"text\"].to_list()\n",
    "y = df[\"label\"].to_list()\n",
    "\n",
    "df.head()"
   ]
  },
  {
   "attachments": {},
   "cell_type": "markdown",
   "metadata": {},
   "source": [
    "Create vocabulary of dataset"
   ]
  },
  {
   "cell_type": "code",
   "execution_count": 19,
   "metadata": {},
   "outputs": [
    {
     "name": "stdout",
     "output_type": "stream",
     "text": [
      "Vocab size: 913\n"
     ]
    }
   ],
   "source": [
    "tokens = [x_i.split(\" \") for x_i in X]\n",
    "\n",
    "word_to_ix = {0: 0}  # padding idx\n",
    "# For each words-list (sentence) and tags-list in each tuple of training_data\n",
    "for sent in tokens:\n",
    "    for word in sent:\n",
    "        if word not in word_to_ix:  # word has not been assigned an index yet\n",
    "            word_to_ix[word] = len(word_to_ix)  # Assign each word with a unique index\n",
    "vocab_size = len(word_to_ix.keys())\n",
    "print(f\"Vocab size: {vocab_size}\")"
   ]
  },
  {
   "attachments": {},
   "cell_type": "markdown",
   "metadata": {},
   "source": [
    "Split dataset into train, val and test segments"
   ]
  },
  {
   "cell_type": "code",
   "execution_count": 20,
   "metadata": {},
   "outputs": [
    {
     "name": "stdout",
     "output_type": "stream",
     "text": [
      "Train: 756; Val: 85; Test: 211\n"
     ]
    }
   ],
   "source": [
    "X_train, X_test, y_train, y_test = train_test_split(\n",
    "    X, y, test_size=0.2, random_state=42\n",
    ")\n",
    "X_train, X_val, y_train, y_val = train_test_split(\n",
    "    X_train, y_train, test_size=0.1, random_state=42\n",
    ")\n",
    "\n",
    "print(f\"Train: {len(y_train)}; Val: {len(y_val)}; Test: {len(y_test)}\")"
   ]
  },
  {
   "attachments": {},
   "cell_type": "markdown",
   "metadata": {},
   "source": [
    "Dataset and Dataloader wrapper for batched training"
   ]
  },
  {
   "cell_type": "code",
   "execution_count": 21,
   "metadata": {},
   "outputs": [],
   "source": [
    "class SentimentDataset(Dataset):\n",
    "    def __init__(self, X, y, to_ix: dict, device):\n",
    "        self.X = X\n",
    "        self.y = y\n",
    "        self.to_ix = to_ix\n",
    "\n",
    "        # transform text to ix in vocab\n",
    "        self.X_ix = [self._transform_to_ix(x_i.split(\" \")) for x_i in X]\n",
    "        # pad sequences to same length\n",
    "        pad_len = len(max(self.X_ix, key=len))\n",
    "        self.X_pad = self._pad_seq(self.X_ix, pad_len)\n",
    "        # to tensor\n",
    "        self.X_t = torch.LongTensor(self.X_pad).to(device)\n",
    "\n",
    "        # transform labels to tensors\n",
    "        self.y_t = torch.LongTensor(y).to(device)\n",
    "\n",
    "    def _transform_to_ix(self, seq):\n",
    "        idxs = [self.to_ix[w] for w in seq]\n",
    "        return idxs\n",
    "\n",
    "    def _pad_seq(self, X, length: int):\n",
    "        padded = []\n",
    "        for row in X:\n",
    "            p = np.pad(row, (0, length - len(row))).tolist()\n",
    "            padded.append(p)\n",
    "        return np.asarray(padded, dtype=np.int32)\n",
    "\n",
    "    def __len__(self):\n",
    "        return len(self.y_t)\n",
    "\n",
    "    def __getitem__(self, idx):\n",
    "        return self.X_t[idx], self.y_t[idx]"
   ]
  },
  {
   "cell_type": "code",
   "execution_count": 22,
   "metadata": {},
   "outputs": [],
   "source": [
    "batch_size = 64\n",
    "\n",
    "dataset_train = SentimentDataset(X_train, y_train, word_to_ix, device)\n",
    "train_loader = DataLoader(dataset_train, batch_size=batch_size, shuffle=True)\n",
    "\n",
    "dataset_val = SentimentDataset(X_val, y_val, word_to_ix, device)\n",
    "val_loader = DataLoader(dataset_val, batch_size=batch_size, shuffle=False)\n",
    "\n",
    "dataset_test = SentimentDataset(X_test, y_test, word_to_ix, device)\n",
    "test_loader = DataLoader(dataset_test, batch_size=batch_size, shuffle=False)"
   ]
  },
  {
   "attachments": {},
   "cell_type": "markdown",
   "metadata": {},
   "source": [
    "Define pytorch module for qlstm / lstm classifier"
   ]
  },
  {
   "cell_type": "code",
   "execution_count": 23,
   "metadata": {},
   "outputs": [],
   "source": [
    "class LSTMClassifier(nn.Module):\n",
    "    def __init__(\n",
    "        self,\n",
    "        embedding_dim: int = 8,\n",
    "        hidden_dim: int = 32,\n",
    "        vocab_size: int = 100,\n",
    "        output_size: int = 2,\n",
    "        n_qubits: int = 4,\n",
    "        n_qlayers: int = 1,\n",
    "        qml_device: str = \"default.qubit\",\n",
    "        learning_rate: float = 0.1,\n",
    "        n_epochs: int = 300,\n",
    "        batch_size: int = 1,\n",
    "        linear_dropout: float = 0.1,\n",
    "        rnn_dropout: float = 0.1,\n",
    "        rnn_layers: int = 1,\n",
    "        weight_decay: float = 1e-5,\n",
    "        momentum: float = 0.9,\n",
    "        rnn: str = \"lstm\",\n",
    "        rnn_bidirectional: bool = False,\n",
    "        torch_device=torch.device(\"cpu\"),\n",
    "    ):\n",
    "        super(LSTMClassifier, self).__init__()\n",
    "        # params\n",
    "        self.embedding_dim = embedding_dim\n",
    "        self.hidden_dim = hidden_dim\n",
    "        self.vocab_size = vocab_size\n",
    "        self.output_size = output_size\n",
    "        self.n_qubits = n_qubits\n",
    "        self.n_qlayers = n_qlayers\n",
    "        self.batch_size = batch_size\n",
    "        self.rnn_dropout = rnn_dropout\n",
    "        self.linear_dropout = linear_dropout\n",
    "        self.n_epochs = n_epochs\n",
    "        self.learning_rate = learning_rate\n",
    "        self.weight_decay = weight_decay\n",
    "        self.rnn_layers = rnn_layers\n",
    "        self.rnn_bidirectional = rnn_bidirectional\n",
    "        self.qml_device = qml_device\n",
    "        self.torch_device = torch_device\n",
    "\n",
    "        # init word embeddings\n",
    "        self.word_embeddings = nn.Embedding(vocab_size, embedding_dim, padding_idx=0)\n",
    "\n",
    "        # The LSTM takes word embeddings as inputs, and outputs hidden states\n",
    "        # with dimensionality hidden_dim.\n",
    "        if rnn == \"qlstm\":\n",
    "            print(\"Model will use Quantum LSTM\")\n",
    "            self.lstm = QLSTMCell(\n",
    "                self.embedding_dim,\n",
    "                hidden_dim,\n",
    "                n_qubits=self.n_qubits,\n",
    "                n_qlayers=self.n_qlayers,\n",
    "                qml_device=self.qml_device,\n",
    "                torch_device=self.torch_device,\n",
    "            )\n",
    "        elif rnn == \"lstm\":\n",
    "            print(\"Model will use Classical LSTM\")\n",
    "            self.lstm = nn.LSTM(\n",
    "                self.embedding_dim,\n",
    "                hidden_dim,\n",
    "                batch_first=True,\n",
    "                num_layers=rnn_layers,\n",
    "                dropout=self.rnn_dropout,\n",
    "                bidirectional=rnn_bidirectional,\n",
    "            )\n",
    "        elif rnn == \"gru\":\n",
    "            print(\"Model will use Classical GRU\")\n",
    "            self.lstm = nn.GRU(\n",
    "                self.embedding_dim,\n",
    "                hidden_dim,\n",
    "                batch_first=True,\n",
    "                num_layers=rnn_layers,\n",
    "                dropout=self.rnn_dropout,\n",
    "                bidirectional=rnn_bidirectional,\n",
    "            )\n",
    "        else:\n",
    "            raise ValueError(\"Invalid rnn layer\")\n",
    "\n",
    "        self.D = 2 if rnn_bidirectional else 1  # lstm bidirectional hidden states\n",
    "        self.hidden_layers = nn.Sequential(\n",
    "            nn.Linear(self.D * hidden_dim, self.D * hidden_dim), nn.ReLU()\n",
    "        )\n",
    "\n",
    "        # The linear layer that maps from hidden state space to tag space\n",
    "        self.label = nn.Linear(self.D * hidden_dim, output_size)\n",
    "\n",
    "        self.optimizer = optim.RMSprop(\n",
    "            self.parameters(),\n",
    "            lr=learning_rate,\n",
    "            weight_decay=weight_decay,\n",
    "            momentum=momentum,\n",
    "        )\n",
    "        self.lr_scheduler = optim.lr_scheduler.ReduceLROnPlateau(self.optimizer, \"min\")\n",
    "\n",
    "        self.loss_function = nn.NLLLoss()\n",
    "        self.dropout = nn.Dropout(p=self.linear_dropout)\n",
    "\n",
    "    def forward(self, sentence):\n",
    "        # transform from word indices to word embeddings\n",
    "        embeds = self.word_embeddings(sentence)\n",
    "\n",
    "        # pass through lstm layers\n",
    "        lstm_out, _ = self.lstm(embeds)\n",
    "        out = lstm_out[:, -1, :]  # last hidden state of lstm output\n",
    "\n",
    "        # hidden layers\n",
    "        out = self.hidden_layers(out)\n",
    "\n",
    "        # apply dropout\n",
    "        out = self.dropout(out)\n",
    "\n",
    "        # cast to number of classes\n",
    "        logits = self.label(out)\n",
    "\n",
    "        # cast to log softmax probabilities\n",
    "        log_probs = F.log_softmax(logits, dim=-1)\n",
    "        return log_probs\n",
    "\n",
    "    def fit(self, train_loader: DataLoader, val_loader: DataLoader):\n",
    "        self.history = {\n",
    "            \"train/loss\": [],\n",
    "            \"train/acc\": [],\n",
    "            \"val/loss\": [],\n",
    "            \"val/acc\": [],\n",
    "        }\n",
    "\n",
    "        # iterate epochs\n",
    "        for epoch in range(self.n_epochs):\n",
    "            self.train()  # set train mode\n",
    "            losses = []\n",
    "            preds = []\n",
    "            targets = []\n",
    "\n",
    "            # iterate batches\n",
    "            for i, (sentence, label) in enumerate(train_loader):\n",
    "                # Step 1. Remember that Pytorch accumulates gradients.\n",
    "                # We need to clear them out before each instance\n",
    "                self.optimizer.zero_grad()\n",
    "\n",
    "                # Step 2. Run our forward pass.\n",
    "                y_hat = self(sentence)\n",
    "\n",
    "                # Step 3. Compute the loss, gradients, and update the parameters by\n",
    "                #  calling optimizer.step()\n",
    "                loss = self.loss_function(y_hat, label)\n",
    "                loss.backward()\n",
    "                self.optimizer.step()\n",
    "                losses.append(float(loss))\n",
    "                preds.append(y_hat.argmax(dim=-1))\n",
    "                targets.append(label)\n",
    "\n",
    "            avg_loss = np.mean(losses)\n",
    "            self.history[\"train/loss\"].append(avg_loss)\n",
    "\n",
    "            preds = torch.cat(preds)\n",
    "            targets = torch.cat(targets)\n",
    "            corrects = preds == targets\n",
    "            accuracy = corrects.sum().float() / float(targets.size(0))\n",
    "            self.history[\"train/acc\"].append(accuracy)\n",
    "\n",
    "            # calc validation loss and accuracy\n",
    "            val_loss, val_acc = self._validate(val_loader)\n",
    "\n",
    "            print(\n",
    "                f\"Epoch {epoch+1} / {self.n_epochs}: train/Loss = {avg_loss:.3f} val/Loss = {val_loss:.3f} train/Acc = {accuracy:.2f} val/Acc = {val_acc:.2f}\"\n",
    "            )\n",
    "\n",
    "    def _validate(self, val_loader: DataLoader):\n",
    "        self.eval()  # set eval mode\n",
    "        y_hat = []\n",
    "        y_pred = []\n",
    "        y_true = []\n",
    "\n",
    "        # iterate batches and predict on val set\n",
    "        for X_val, y_val in val_loader:\n",
    "            probs = self(X_val)\n",
    "            y_hat.append(probs)\n",
    "            y_pred.append(probs.argmax(dim=-1))\n",
    "            y_true.append(y_val)\n",
    "\n",
    "        y_hat = torch.cat(y_hat)\n",
    "        y_pred = torch.cat(y_pred)\n",
    "        y_true = torch.cat(y_true)\n",
    "        corrects = y_pred == y_true\n",
    "        val_acc = corrects.sum().float() / float(y_true.size(0))\n",
    "        val_loss = float(self.loss_function(y_hat, y_true))\n",
    "\n",
    "        self.history[\"val/loss\"].append(val_loss)\n",
    "        self.history[\"val/acc\"].append(val_acc)\n",
    "\n",
    "        return val_loss, val_acc\n",
    "\n",
    "    def predict(self, test_loader):\n",
    "        self.eval()\n",
    "        y_pred = []\n",
    "        for X, _ in test_loader:\n",
    "            y_hat = self(X)\n",
    "            preds = torch.argmax(y_hat, axis=1).cpu().numpy().tolist()\n",
    "            y_pred.extend(preds)\n",
    "        return y_pred"
   ]
  },
  {
   "attachments": {},
   "cell_type": "markdown",
   "metadata": {},
   "source": [
    "## Training a LSTM and QLSTM\n",
    "\n",
    "Now we will train both a classical LSTM and a quantum-hybrid QLSTM and compare them with each other.\n",
    "\n",
    "First, let's define a way to plot the training curve behavior of a model to compare the results."
   ]
  },
  {
   "cell_type": "code",
   "execution_count": 29,
   "metadata": {},
   "outputs": [],
   "source": [
    "from matplotlib.ticker import MaxNLocator\n",
    "\n",
    "\n",
    "def plot_training(history, show=True):\n",
    "    fig, ax1 = plt.subplots()\n",
    "\n",
    "    # move tensors to cpu device\n",
    "    history[\"train/acc\"] = [t.cpu() for t in history[\"train/acc\"]]\n",
    "    history[\"val/acc\"] = [t.cpu() for t in history[\"val/acc\"]]\n",
    "\n",
    "    ax1.set_xlabel(\"Epoch\")\n",
    "    ax1.set_ylabel(\"Loss\")\n",
    "    x_range = range(1, len(history[\"train/loss\"]) + 1)  # correct x ticks\n",
    "    line1 = ax1.plot(x_range, history[\"train/loss\"], color=\"orange\", label=\"Train loss\")\n",
    "    line2 = ax1.plot(\n",
    "        x_range, history[\"val/loss\"], color=\"red\", linestyle=\"dashed\", label=\"Val loss\"\n",
    "    )\n",
    "\n",
    "    ax2 = ax1.twinx()\n",
    "    ax2.set_ylabel(\"Accuracy\")\n",
    "    line3 = ax2.plot(\n",
    "        x_range, history[\"train/acc\"], color=\"steelblue\", label=\"Train accuracy\"\n",
    "    )\n",
    "    line4 = ax2.plot(\n",
    "        x_range,\n",
    "        history[\"val/acc\"],\n",
    "        color=\"blue\",\n",
    "        linestyle=\"dashed\",\n",
    "        label=\"Val accuracy\",\n",
    "    )\n",
    "\n",
    "    ax1.xaxis.set_major_locator(MaxNLocator(integer=True))\n",
    "\n",
    "    fig.tight_layout()\n",
    "    # Shrink current axis by 20%\n",
    "    box = ax1.get_position()\n",
    "    ax1.set_position([box.x0, box.y0, box.width * 0.8, box.height])\n",
    "\n",
    "    # Put a legend to the right of the current axis\n",
    "    lines = line1 + line2 + line3 + line4\n",
    "    legend_labels = [l.get_label() for l in lines]\n",
    "    ax1.legend(lines, legend_labels, loc=\"upper left\", bbox_to_anchor=(1.3, 0.7))\n",
    "\n",
    "    fig.savefig(f\"{rnn}_{n_qlayers}_{n_qubits}.pdf\")\n",
    "    if show:\n",
    "        fig.show()"
   ]
  },
  {
   "attachments": {},
   "cell_type": "markdown",
   "metadata": {},
   "source": [
    "Additionally, we define a function to evaluate the trained model on the test data set."
   ]
  },
  {
   "cell_type": "code",
   "execution_count": 30,
   "metadata": {},
   "outputs": [],
   "source": [
    "from sklearn.metrics import accuracy_score, f1_score, matthews_corrcoef, roc_auc_score\n",
    "from sklearn.preprocessing import label_binarize\n",
    "\n",
    "\n",
    "def eval_metrics(y_test, y_pred):\n",
    "    acc = accuracy_score(y_test, y_pred)\n",
    "    f1 = f1_score(y_test, y_pred, average=\"weighted\")\n",
    "\n",
    "    # binarize labels for multi class auc score\n",
    "    labels = list(set(y_test))\n",
    "    y_test_bin = label_binarize(y_test, classes=labels)\n",
    "    y_pred_bin = label_binarize(y_pred, classes=labels)\n",
    "    auc = roc_auc_score(y_test_bin, y_pred_bin, average=\"weighted\", multi_class=\"ovo\")\n",
    "\n",
    "    mcc = matthews_corrcoef(y_test, y_pred)\n",
    "    return acc, f1, auc, mcc"
   ]
  },
  {
   "attachments": {},
   "cell_type": "markdown",
   "metadata": {},
   "source": [
    "## Training classical case: LSTM\n",
    "\n",
    "Define hyperparameters and start training for classical LSTM"
   ]
  },
  {
   "cell_type": "code",
   "execution_count": 33,
   "metadata": {},
   "outputs": [
    {
     "name": "stdout",
     "output_type": "stream",
     "text": [
      "Model will use Classical LSTM\n",
      "Epoch 1 / 20: train/Loss = 1.027 val/Loss = 0.877 train/Acc = 0.45 val/Acc = 0.60\n",
      "Epoch 2 / 20: train/Loss = 0.890 val/Loss = 0.800 train/Acc = 0.60 val/Acc = 0.69\n",
      "Epoch 3 / 20: train/Loss = 0.750 val/Loss = 0.765 train/Acc = 0.69 val/Acc = 0.68\n",
      "Epoch 4 / 20: train/Loss = 0.613 val/Loss = 0.657 train/Acc = 0.74 val/Acc = 0.73\n",
      "Epoch 5 / 20: train/Loss = 0.519 val/Loss = 0.651 train/Acc = 0.78 val/Acc = 0.74\n",
      "Epoch 6 / 20: train/Loss = 0.457 val/Loss = 0.658 train/Acc = 0.80 val/Acc = 0.73\n",
      "Epoch 7 / 20: train/Loss = 0.430 val/Loss = 0.595 train/Acc = 0.79 val/Acc = 0.79\n",
      "Epoch 8 / 20: train/Loss = 0.375 val/Loss = 0.619 train/Acc = 0.81 val/Acc = 0.73\n",
      "Epoch 9 / 20: train/Loss = 0.334 val/Loss = 0.649 train/Acc = 0.87 val/Acc = 0.78\n",
      "Epoch 10 / 20: train/Loss = 0.278 val/Loss = 0.680 train/Acc = 0.88 val/Acc = 0.72\n",
      "Epoch 11 / 20: train/Loss = 0.222 val/Loss = 0.708 train/Acc = 0.92 val/Acc = 0.80\n",
      "Epoch 12 / 20: train/Loss = 0.188 val/Loss = 0.738 train/Acc = 0.94 val/Acc = 0.80\n",
      "Epoch 13 / 20: train/Loss = 0.169 val/Loss = 0.751 train/Acc = 0.95 val/Acc = 0.80\n",
      "Epoch 14 / 20: train/Loss = 0.141 val/Loss = 0.899 train/Acc = 0.95 val/Acc = 0.81\n",
      "Epoch 15 / 20: train/Loss = 0.099 val/Loss = 0.900 train/Acc = 0.97 val/Acc = 0.78\n",
      "Epoch 16 / 20: train/Loss = 0.074 val/Loss = 0.945 train/Acc = 0.98 val/Acc = 0.80\n",
      "Epoch 17 / 20: train/Loss = 0.063 val/Loss = 1.043 train/Acc = 0.98 val/Acc = 0.80\n",
      "Epoch 18 / 20: train/Loss = 0.056 val/Loss = 1.099 train/Acc = 0.98 val/Acc = 0.80\n",
      "Epoch 19 / 20: train/Loss = 0.054 val/Loss = 0.941 train/Acc = 0.98 val/Acc = 0.80\n",
      "Epoch 20 / 20: train/Loss = 0.048 val/Loss = 1.040 train/Acc = 0.99 val/Acc = 0.82\n",
      "Training time: 0.52sec\n"
     ]
    }
   ],
   "source": [
    "embedding_dim = 10\n",
    "hidden_dim = 16\n",
    "output_size = len(np.unique(y))\n",
    "n_epochs = 20\n",
    "n_qubits = 4\n",
    "n_qlayers = 1\n",
    "learning_rate = 1e-2\n",
    "linear_dropout = 0 # dropout for linear layers\n",
    "rnn_dropout = 0 # dropout for classical rnn layers\n",
    "rnn_layers = 1 # number of classical rnn layers\n",
    "weight_decay = 1e-4 # weight decay for optimizer / l2 regularization\n",
    "momentum = 0 # momentum for optimizer\n",
    "rnn = \"lstm\" # rnn layer -> lstm/qlstm/gru\n",
    "rnn_bidirectional = False # bidirectionality for classical rnn layer\n",
    "\n",
    "model = LSTMClassifier(\n",
    "    embedding_dim=embedding_dim,\n",
    "    hidden_dim=hidden_dim,\n",
    "    vocab_size=vocab_size,\n",
    "    output_size=output_size,\n",
    "    n_epochs=n_epochs,\n",
    "    learning_rate=learning_rate,\n",
    "    linear_dropout=linear_dropout,\n",
    "    rnn_dropout=rnn_dropout,\n",
    "    rnn_layers=rnn_layers,\n",
    "    batch_size=batch_size,\n",
    "    weight_decay=weight_decay,\n",
    "    momentum=momentum,\n",
    "    rnn=rnn,\n",
    "    rnn_bidirectional=rnn_bidirectional,\n",
    "    n_qubits=n_qubits,\n",
    "    n_qlayers=n_qlayers,\n",
    "    torch_device=device,\n",
    ")\n",
    "model.to(device)\n",
    "\n",
    "# start training and track time\n",
    "start_time = time.time()\n",
    "\n",
    "model.fit(train_loader, val_loader)\n",
    "\n",
    "training_time = round(time.time() - start_time, 2)\n",
    "print(f\"Training time: {training_time}sec\")"
   ]
  },
  {
   "attachments": {},
   "cell_type": "markdown",
   "metadata": {},
   "source": [
    "Plot training curve"
   ]
  },
  {
   "cell_type": "code",
   "execution_count": 34,
   "metadata": {},
   "outputs": [
    {
     "name": "stderr",
     "output_type": "stream",
     "text": [
      "/tmp/ipykernel_29732/256163816.py:46: UserWarning: Matplotlib is currently using module://matplotlib_inline.backend_inline, which is a non-GUI backend, so cannot show the figure.\n",
      "  fig.show()\n"
     ]
    },
    {
     "data": {
      "image/png": "[encoded data removed]",
      "text/plain": [
       "<Figure size 640x480 with 2 Axes>"
      ]
     },
     "metadata": {},
     "output_type": "display_data"
    }
   ],
   "source": [
    "plot_training(model.history)"
   ]
  },
  {
   "attachments": {},
   "cell_type": "markdown",
   "metadata": {},
   "source": [
    "It can be seen, that the LSTM easily learns the task as the train loss steadily decreases and the accuracy increases."
   ]
  },
  {
   "attachments": {},
   "cell_type": "markdown",
   "metadata": {},
   "source": [
    "Evaluate on test set"
   ]
  },
  {
   "cell_type": "code",
   "execution_count": 35,
   "metadata": {},
   "outputs": [
    {
     "name": "stdout",
     "output_type": "stream",
     "text": [
      "Acc: 0.7867298578199052, F1: 0.7982278777492309, AUC: 0.853581911817364, MCC: 0.6751882153673884\n"
     ]
    }
   ],
   "source": [
    "y_pred = model.predict(test_loader)\n",
    "\n",
    "acc, f1, auc, mcc = eval_metrics(y_test, y_pred)\n",
    "print(f\"Acc: {acc}, F1: {f1}, AUC: {auc}, MCC: {mcc}\")"
   ]
  },
  {
   "attachments": {},
   "cell_type": "markdown",
   "metadata": {},
   "source": [
    "## Training quantum case: QLSTM\n",
    "\n",
    "Define hyperparameters and start training for QLSTM\n",
    "\n",
    "Note: Training might take a **long** time. (around 100 minutes on default.qubit simulator for low complexity data set)"
   ]
  },
  {
   "cell_type": "code",
   "execution_count": 36,
   "metadata": {},
   "outputs": [
    {
     "name": "stdout",
     "output_type": "stream",
     "text": [
      "Model will use Quantum LSTM\n",
      "weight_shapes = (n_qlayers, n_qubits) = (1, 4)\n",
      "Epoch 1 / 20: train/Loss = 1.065 val/Loss = 1.010 train/Acc = 0.43 val/Acc = 0.48\n",
      "Epoch 2 / 20: train/Loss = 1.035 val/Loss = 1.019 train/Acc = 0.48 val/Acc = 0.48\n",
      "Epoch 3 / 20: train/Loss = 1.032 val/Loss = 0.975 train/Acc = 0.48 val/Acc = 0.48\n",
      "Epoch 4 / 20: train/Loss = 0.927 val/Loss = 0.818 train/Acc = 0.61 val/Acc = 0.67\n",
      "Epoch 5 / 20: train/Loss = 0.820 val/Loss = 0.790 train/Acc = 0.66 val/Acc = 0.71\n",
      "Epoch 6 / 20: train/Loss = 0.714 val/Loss = 0.693 train/Acc = 0.72 val/Acc = 0.71\n",
      "Epoch 7 / 20: train/Loss = 0.678 val/Loss = 0.748 train/Acc = 0.73 val/Acc = 0.71\n",
      "Epoch 8 / 20: train/Loss = 0.596 val/Loss = 0.761 train/Acc = 0.76 val/Acc = 0.72\n"
     ]
    }
   ],
   "source": [
    "embedding_dim = 10\n",
    "hidden_dim = 16\n",
    "output_size = len(np.unique(y))\n",
    "n_epochs = 20\n",
    "n_qubits = 4\n",
    "n_qlayers = 1\n",
    "learning_rate = 1e-2\n",
    "linear_dropout = 0 # dropout for linear layers\n",
    "rnn_dropout = 0 # dropout for classical rnn layers\n",
    "rnn_layers = 1 # number of classical rnn layers\n",
    "weight_decay = 1e-4 # weight decay for optimizer / l2 regularization\n",
    "momentum = 0 # momentum for optimizer\n",
    "rnn = \"qlstm\" # rnn layer -> lstm/qlstm/gru\n",
    "rnn_bidirectional = False # bidirectionality for classical rnn layer\n",
    "\n",
    "model = LSTMClassifier(\n",
    "    embedding_dim=embedding_dim,\n",
    "    hidden_dim=hidden_dim,\n",
    "    vocab_size=vocab_size,\n",
    "    output_size=output_size,\n",
    "    n_epochs=n_epochs,\n",
    "    learning_rate=learning_rate,\n",
    "    linear_dropout=linear_dropout,\n",
    "    rnn_dropout=rnn_dropout,\n",
    "    rnn_layers=rnn_layers,\n",
    "    batch_size=batch_size,\n",
    "    weight_decay=weight_decay,\n",
    "    momentum=momentum,\n",
    "    rnn=rnn,\n",
    "    rnn_bidirectional=rnn_bidirectional,\n",
    "    n_qubits=n_qubits,\n",
    "    n_qlayers=n_qlayers,\n",
    "    torch_device=device,\n",
    ")\n",
    "model.to(device)\n",
    "\n",
    "# start training and track time\n",
    "start_time = time.time()\n",
    "\n",
    "model.fit(train_loader, val_loader)\n",
    "\n",
    "training_time = round(time.time() - start_time, 2)\n",
    "print(f\"Training time: {training_time}sec\")"
   ]
  },
  {
   "attachments": {},
   "cell_type": "markdown",
   "metadata": {},
   "source": [
    "Plot training curve"
   ]
  },
  {
   "cell_type": "code",
   "execution_count": null,
   "metadata": {},
   "outputs": [],
   "source": [
    "plot_training(model.history)"
   ]
  },
  {
   "attachments": {},
   "cell_type": "markdown",
   "metadata": {},
   "source": [
    "Evaluate on test set"
   ]
  },
  {
   "cell_type": "code",
   "execution_count": null,
   "metadata": {},
   "outputs": [],
   "source": [
    "y_pred = model.predict(test_loader)\n",
    "\n",
    "acc, f1, auc, mcc = eval_metrics(y_test, y_pred)\n",
    "print(f\"Acc: {acc}, F1: {f1}, AUC: {auc}, MCC: {mcc}\")"
   ]
  }
 ],
 "metadata": {
  "kernelspec": {
   "display_name": "qnlp_finance",
   "language": "python",
   "name": "python3"
  },
  "language_info": {
   "codemirror_mode": {
    "name": "ipython",
    "version": 3
   },
   "file_extension": ".py",
   "mimetype": "text/x-python",
   "name": "python",
   "nbconvert_exporter": "python",
   "pygments_lexer": "ipython3",
   "version": "3.11.3"
  },
  "orig_nbformat": 4
 },
 "nbformat": 4,
 "nbformat_minor": 2
}
